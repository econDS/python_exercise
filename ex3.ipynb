{
 "cells": [
  {
   "cell_type": "markdown",
   "metadata": {},
   "source": [
    "#### 1.Transformation\n",
    "Wrtie a program that transforms the tuple (1,\n",
    "2,\n",
    "3,\n",
    "4,\n",
    "5,\n",
    "6) into the list\n",
    "['One',\n",
    "2,\n",
    "'III',\n",
    "'hello',\n",
    "5,\n",
    "'III*2']. (Note that there are many\n",
    "possible different answers.)"
   ]
  },
  {
   "cell_type": "code",
   "execution_count": 9,
   "metadata": {},
   "outputs": [
    {
     "name": "stdout",
     "output_type": "stream",
     "text": [
      "['One', 2, 'III', 'hello', 5, 'III*2']\n"
     ]
    }
   ],
   "source": [
    "tp = (1, 2, 3, 4, 5, 6)\n",
    "ls = list(tp)\n",
    "for item in ls:\n",
    "    if item == 1:\n",
    "        ls[tp.index(item)] = 'One'\n",
    "    if item == 3:\n",
    "        ls[tp.index(item)] = 'III'\n",
    "    if item == 4:\n",
    "        ls[tp.index(item)] = 'hello'\n",
    "    if item == 6:\n",
    "        ls[tp.index(item)] = 'III*2'\n",
    "        \n",
    "print(ls)"
   ]
  },
  {
   "cell_type": "markdown",
   "metadata": {
    "collapsed": true
   },
   "source": [
    "#### 2.Fixing Code\n",
    "Given a list my_list\n",
    "=\n",
    "[1,2,3,4], we want to convert the list to the string\n",
    "'1234'. We tried ''.join([i\n",
    "for\n",
    "i\n",
    "in\n",
    "L]), but it doesn’t work. Fix it."
   ]
  },
  {
   "cell_type": "code",
   "execution_count": 6,
   "metadata": {},
   "outputs": [
    {
     "data": {
      "text/plain": [
       "'1234'"
      ]
     },
     "execution_count": 6,
     "metadata": {},
     "output_type": "execute_result"
    }
   ],
   "source": [
    "my_list = [1,2,3,4]\n",
    "''.join([str(i) for i in my_list])"
   ]
  },
  {
   "cell_type": "markdown",
   "metadata": {},
   "source": [
    "#### 3.New List\n",
    "Given a list of integers, write Python code to create a new list with same\n",
    "number of elements as the original list such that each integer in the new list is\n",
    "the sum of its neighbors and itself in the original list. For example, if list1\n",
    "=\n",
    "[10,20,30,40,50], list2\n",
    "=\n",
    "[30,60,90,120,90]."
   ]
  },
  {
   "cell_type": "code",
   "execution_count": 32,
   "metadata": {},
   "outputs": [
    {
     "name": "stdout",
     "output_type": "stream",
     "text": [
      "[30, 60, 90, 120, 90]\n"
     ]
    }
   ],
   "source": [
    "list1 = [10,20,30,40,50]\n",
    "\n",
    "list2 = []\n",
    "for i in range(len(list1)):\n",
    "    if i == 0:\n",
    "        list2.append(list1[i]+list1[i+1])\n",
    "    elif i == len(list1)-1:\n",
    "        list2.append(list1[i-1]+list1[i])\n",
    "    else:\n",
    "        list2.append(list1[i-1]+list1[i]+list1[i+1])\n",
    "        \n",
    "print(list2)"
   ]
  },
  {
   "cell_type": "markdown",
   "metadata": {},
   "source": [
    "#### 4. Unique List\n",
    "Make a list of the unique letters used in a sentence. That is, if the letter x is used\n",
    "twice in a sentence, it should only appear once in your list. No punctuation should\n",
    "appear in your list. For the purpose of simplicity, consider the following characters as\n",
    "punctuation:\n",
    ".\n",
    ",\n",
    ";\n",
    "?\n",
    "!\n",
    "–"
   ]
  },
  {
   "cell_type": "code",
   "execution_count": 51,
   "metadata": {},
   "outputs": [
    {
     "name": "stdout",
     "output_type": "stream",
     "text": [
      "your sentence: test. , ; ? ! –\n",
      "['e', 's', 't']\n"
     ]
    }
   ],
   "source": [
    "punc = ['.', ',', ';', '?', '!', '–', \" \"]\n",
    "sentence = input('your sentence: ')\n",
    "\n",
    "unique_list = list(set(sentence))\n",
    "\n",
    "for c in punc:\n",
    "    del unique_list[unique_list.index(c)]\n",
    "    \n",
    "print(unique_list)"
   ]
  },
  {
   "cell_type": "markdown",
   "metadata": {},
   "source": [
    "#### 5.Reversed Sentence\n",
    "Write a program that asks the user to enter a sentence and displays the words in the\n",
    "sentence in reversed order. For example, if the sentence is “What is your quest”, it\n",
    "should display “quest your is What”."
   ]
  },
  {
   "cell_type": "code",
   "execution_count": 7,
   "metadata": {},
   "outputs": [
    {
     "name": "stdout",
     "output_type": "stream",
     "text": [
      "your sentence: What is your quest\n",
      "quest your is What\n"
     ]
    }
   ],
   "source": [
    "sentence_list = input('your sentence: ').split(' ')\n",
    "sentence_list.reverse()\n",
    "rev_sentence = ' '.join([str(i) for i in sentence_list])\n",
    "print(rev_sentence)"
   ]
  },
  {
   "cell_type": "markdown",
   "metadata": {
    "collapsed": true
   },
   "source": [
    "##### 6. Having Fun with Lists\n",
    "It is often times advantageous to be able to transfer data between multiple lists while\n",
    "rearranging their order. For instance, say that list1\n",
    "=\n",
    "[1,2,3,4,5,6,7,8,9]\n",
    "and you wish to add the numbers in the index range 4:7 of list1 to another list,\n",
    "list2, in reverse order while simultaneously removing them from list1. If list2\n",
    "=\n",
    "[100,200], the results will be list2\n",
    "=\n",
    "[100,200,7,6,5] and list1\n",
    "=\n",
    "[1,2,3,4,8,9]. Write a program that generates list1 and list2 containing\n",
    "random numbers, asks the user to enter r1 and r2 that will be used to remove items\n",
    "from list1 in the slice r1:r2, appends them into list2 in reverse order, and\n",
    "displays the resulting lists. In order to generate random numbers, your need to use a\n",
    "function in the random library; so you need to do import\n",
    "random."
   ]
  },
  {
   "cell_type": "code",
   "execution_count": 22,
   "metadata": {},
   "outputs": [
    {
     "name": "stdout",
     "output_type": "stream",
     "text": [
      "[6, 2, 2, 6, 6, 5, 9, 9, 7]\n",
      "[778, 588]\n",
      "r1: 4\n",
      "r2: 7\n",
      "[778, 588, 9, 5, 6]\n"
     ]
    }
   ],
   "source": [
    "import random\n",
    "\n",
    "list1 = []\n",
    "for i in range(9):\n",
    "    list1.append(random.randint(1,9))\n",
    "print(list1)\n",
    "\n",
    "list2 = []\n",
    "for i in range(2):\n",
    "    list2.append(random.randint(100,999))\n",
    "print(list2)\n",
    "\n",
    "r1= int(input(\"r1: \"))\n",
    "r2= int(input(\"r2: \"))\n",
    "\n",
    "sld = list1[r1:r2]\n",
    "sld.reverse()\n",
    "list2 += sld\n",
    "print(list2)"
   ]
  },
  {
   "cell_type": "markdown",
   "metadata": {},
   "source": [
    "#### 7. Valid Number Information\n",
    "Write a program that uses a loop to build a list named valid_numbers that contains\n",
    "only the nubers between 0 and 100 from the numbers list below. The program should\n",
    "then determine and display the total and average of the values in the valid_number\n",
    "list.\n",
    "numbers\n",
    "=\n",
    "[74,\n",
    "19,\n",
    "105,\n",
    "20,\n",
    "-­2,\n",
    "67,\n",
    "77,\n",
    "124,\n",
    "‐45,\n",
    "38]"
   ]
  },
  {
   "cell_type": "code",
   "execution_count": 39,
   "metadata": {},
   "outputs": [
    {
     "name": "stdout",
     "output_type": "stream",
     "text": [
      "[74, 19, 20, 67, 77, 38]\n",
      "Total 295\n",
      "Average 49.166666666666664\n"
     ]
    }
   ],
   "source": [
    "numbers = [74, 19, 105, 20, -2, 67, 77, 124, -45, 38]\n",
    "valid_numbers = []\n",
    "for num in numbers:\n",
    "    if num > 0 and num < 100 :\n",
    "        valid_numbers.append(num)\n",
    "print(valid_numbers)\n",
    "print(\"Total\", sum(valid_numbers))\n",
    "print(\"Average\", sum(valid_numbers)/len(valid_numbers))"
   ]
  },
  {
   "cell_type": "markdown",
   "metadata": {},
   "source": [
    "#### 8. Rainfall Statistics\n",
    "Write a program that lets the user enter the total rainfall for each of 12 months into a\n",
    "list. The program should calculate and display the total rainfall for the year, the\n",
    "average monthly rainfall, and the months with the highest and lowest amounts."
   ]
  },
  {
   "cell_type": "code",
   "execution_count": 50,
   "metadata": {},
   "outputs": [
    {
     "name": "stdout",
     "output_type": "stream",
     "text": [
      "monnt1: 10\n",
      "monnt2: 20\n",
      "monnt3: 30\n",
      "monnt4: 40\n",
      "monnt5: 50\n",
      "monnt6: 60\n",
      "monnt7: 70\n",
      "monnt8: 80\n",
      "monnt9: 90\n",
      "monnt10: 100\n",
      "monnt11: 110\n",
      "monnt12: 120\n",
      "Total rain fall: 780\n",
      "Average rain fall: 65.0\n",
      "Month with hightest rainfall: 12\n",
      "Month with lowest rainfall: 1\n"
     ]
    }
   ],
   "source": [
    "rain_list = []\n",
    "for i in range(12):\n",
    "    rain = int(input(\"monnt\"+str(i+1)+\": \"))\n",
    "    rain_list.append(rain)\n",
    "    \n",
    "print(\"Total rain fall:\", sum(rain_list))\n",
    "print(\"Average rain fall:\", sum(rain_list)/len(rain_list))\n",
    "print(\"Month with hightest rainfall:\", rain_list.index(max(rain_list))+1)\n",
    "print(\"Month with lowest rainfall:\", rain_list.index(min(rain_list))+1)"
   ]
  },
  {
   "cell_type": "markdown",
   "metadata": {},
   "source": [
    "#### 9. Number Analysis Program\n",
    "Write a program that asks the user to enter a series of 20 numbers. The program\n",
    "should store the numbers in a list and then display the following data:\n",
    "• The lowest number in the list\n",
    "• The highest number in the list\n",
    "• The total of the numbers in the list\n",
    "• The average of the numbers in the list"
   ]
  },
  {
   "cell_type": "code",
   "execution_count": 52,
   "metadata": {},
   "outputs": [
    {
     "name": "stdout",
     "output_type": "stream",
     "text": [
      "num1: 1\n",
      "num2: 2\n",
      "num3: 3\n",
      "num4: 4\n",
      "num5: 5\n",
      "num6: 6\n",
      "num7: 7\n",
      "num8: 8\n",
      "num9: 9\n",
      "num10: 10\n",
      "num11: 11\n",
      "num12: 12\n",
      "num13: 13\n",
      "num14: 14\n",
      "num15: 15\n",
      "num16: 16\n",
      "num17: 17\n",
      "num18: 18\n",
      "num19: 19\n",
      "num20: 20\n",
      "The lowest number: 1\n",
      "The highest number: 20\n",
      "The total of the numbers: 210\n",
      "The average of the numbers: 10.5\n"
     ]
    }
   ],
   "source": [
    "numbers = []\n",
    "for i in range(20):\n",
    "    num = int(input(\"num\"+str(i+1)+\": \"))\n",
    "    numbers.append(num)\n",
    "    \n",
    "print(\"The lowest number:\", min(numbers))\n",
    "print(\"The highest number:\", max(numbers))\n",
    "print(\"The total of the numbers:\", sum(numbers))\n",
    "print(\"The average of the numbers:\", sum(numbers)/len(numbers))"
   ]
  },
  {
   "cell_type": "markdown",
   "metadata": {},
   "source": [
    "##### 10.Name Search\n",
    "boy_names and girl_names are the list of the 10 most popular names given to\n",
    "boys and girls in the United States in 2018. Write a program that asks the user to enter\n",
    "a name. The user should be able to enter a boy’s name, a girl’s name, or both, and the\n",
    "program will display messages indicating whether the names were among the most\n",
    "popular.\n",
    "\n",
    "girl_names\n",
    "=\n",
    "[Emma,\n",
    "Olivia,\n",
    "Ava,\n",
    "Isabella,\n",
    "Sophia,\n",
    "Amelia,\n",
    "Mia,\n",
    "Charlotte,\n",
    "Harper,\n",
    "Mila]\n",
    "\n",
    "boy_names\n",
    "=\n",
    "[Liam,\n",
    "Noah,\n",
    "Oliver,\n",
    "Mason,\n",
    "Lucas,\n",
    "Elijah,\n",
    "Logan,\n",
    "Ethan,\n",
    "Aiden,\n",
    "James]"
   ]
  },
  {
   "cell_type": "code",
   "execution_count": 1,
   "metadata": {},
   "outputs": [
    {
     "name": "stdout",
     "output_type": "stream",
     "text": [
      "your boy or girl 's name: Lucas\n",
      "\"Lucas\" is popular boy name.\n"
     ]
    }
   ],
   "source": [
    "girl_names = ['Emma', 'Olivia', 'Ava', 'Isabella', 'Sophia', 'Amelia', 'Mia', 'Charlotte', 'Harper', 'Mila']\n",
    "boy_names = ['Liam', 'Noah', 'Oliver', 'Mason', 'Lucas', 'Elijah', 'Logan', 'Ethan', 'Aiden', 'James']\n",
    "user_name = input(\"your boy or girl 's name: \")\n",
    "if user_name in girl_names:\n",
    "    print('\"'+user_name+'\"',\"is popular girl name.\")\n",
    "if user_name in boy_names:\n",
    "    print('\"'+user_name+'\"',\"is popular boy name.\")"
   ]
  }
 ],
 "metadata": {
  "kernelspec": {
   "display_name": "Python 3",
   "language": "python",
   "name": "python3"
  },
  "language_info": {
   "codemirror_mode": {
    "name": "ipython",
    "version": 3
   },
   "file_extension": ".py",
   "mimetype": "text/x-python",
   "name": "python",
   "nbconvert_exporter": "python",
   "pygments_lexer": "ipython3",
   "version": "3.6.6"
  }
 },
 "nbformat": 4,
 "nbformat_minor": 2
}
