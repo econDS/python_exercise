{
 "cells": [
  {
   "cell_type": "markdown",
   "metadata": {},
   "source": [
    "# 1. Integer Operators"
   ]
  },
  {
   "cell_type": "code",
   "execution_count": 3,
   "metadata": {},
   "outputs": [
    {
     "name": "stdout",
     "output_type": "stream",
     "text": [
      "your number: 2\n",
      "0\n"
     ]
    }
   ],
   "source": [
    "print(0) if int(input(\"your number: \")) % 2 == 0 else print(1)"
   ]
  },
  {
   "cell_type": "markdown",
   "metadata": {},
   "source": [
    "# 2. Sales Prediction"
   ]
  },
  {
   "cell_type": "code",
   "execution_count": 11,
   "metadata": {},
   "outputs": [
    {
     "name": "stdout",
     "output_type": "stream",
     "text": [
      "expected total sales: 1150\n",
      "264.5 profit from 1150.0 expected total sales\n"
     ]
    }
   ],
   "source": [
    "total_sales = float(input(\"expected total sales: \"))\n",
    "print(0.23*total_sales, \"profit from\", total_sales, \"expected total sales\")"
   ]
  },
  {
   "cell_type": "markdown",
   "metadata": {},
   "source": [
    "# 3. Pounds to Kilograms"
   ]
  },
  {
   "cell_type": "code",
   "execution_count": 10,
   "metadata": {},
   "outputs": [
    {
     "name": "stdout",
     "output_type": "stream",
     "text": [
      "weight in pound: 1\n",
      "equal to 0.454 kilograms\n"
     ]
    }
   ],
   "source": [
    "pound = float(input(\"weight in pound: \"))\n",
    "print(\"equal to\", 0.454*pound, \"kilograms\")"
   ]
  },
  {
   "cell_type": "markdown",
   "metadata": {},
   "source": [
    "# 4. Total Purchase"
   ]
  },
  {
   "cell_type": "code",
   "execution_count": 14,
   "metadata": {},
   "outputs": [
    {
     "name": "stdout",
     "output_type": "stream",
     "text": [
      "price of item1: 10\n",
      "price of item2: 12\n",
      "price of item3: 14\n",
      "price of item4: 16\n",
      "price of item5: 18\n",
      "subtotal: 70.0\n",
      "sale_tax: 4.9\n",
      "total: 74.9\n"
     ]
    }
   ],
   "source": [
    "item1 = float(input(\"price of item1: \"))\n",
    "item2 = float(input(\"price of item2: \"))\n",
    "item3 = float(input(\"price of item3: \"))\n",
    "item4 = float(input(\"price of item4: \"))\n",
    "item5 = float(input(\"price of item5: \"))\n",
    "\n",
    "subtotal = item1+item2+item3+item4+item5\n",
    "sales_tax = 0.07*subtotal\n",
    "total = subtotal+sale_tax\n",
    "print(\"subtotal:\", subtotal)\n",
    "print(\"sale_tax:\", sale_tax)\n",
    "print(\"total:\", total)"
   ]
  },
  {
   "cell_type": "markdown",
   "metadata": {},
   "source": [
    "# 5. Tip, Tax, and Total"
   ]
  },
  {
   "cell_type": "code",
   "execution_count": 16,
   "metadata": {},
   "outputs": [
    {
     "name": "stdout",
     "output_type": "stream",
     "text": [
      "charge for food: 100\n",
      "charge for food: 100.0\n",
      "tip: 18.0\n",
      "sales tax: 7.000000000000001\n",
      "total 125.0\n"
     ]
    }
   ],
   "source": [
    "meal_cost = float(input(\"charge for food: \"))\n",
    "tip = 0.18*meal_cost\n",
    "sales_tax = 0.07*meal_cost\n",
    "total = meal_cost+tip+sales_tax\n",
    "print(\"charge for food:\", meal_cost)\n",
    "print(\"tip:\", tip)\n",
    "print(\"sales tax:\", sales_tax)\n",
    "print(\"total\", total)"
   ]
  },
  {
   "cell_type": "markdown",
   "metadata": {},
   "source": [
    "# 6. Circle Measurements"
   ]
  },
  {
   "cell_type": "code",
   "execution_count": 17,
   "metadata": {},
   "outputs": [
    {
     "name": "stdout",
     "output_type": "stream",
     "text": [
      "radius: 5\n",
      "area: 78.53981633974483\n",
      "circumference: 31.41592653589793\n"
     ]
    }
   ],
   "source": [
    "import math\n",
    "radius = float(input(\"radius: \"))\n",
    "area = math.pi*radius**2\n",
    "circumference = 2*math.pi*radius\n",
    "print(\"area:\", area)\n",
    "print(\"circumference:\", circumference)"
   ]
  },
  {
   "cell_type": "markdown",
   "metadata": {},
   "source": [
    "# 7. Ingredient Adjuster"
   ]
  },
  {
   "cell_type": "code",
   "execution_count": 19,
   "metadata": {},
   "outputs": [
    {
     "name": "stdout",
     "output_type": "stream",
     "text": [
      "number of cookies: 5\n",
      "7.5 cups of sugar\n",
      "5 cups of butter\n",
      "13.75 cups of flour\n"
     ]
    }
   ],
   "source": [
    "num_cookies = int(input(\"number of cookies: \"))\n",
    "sugar = 1.5*num_cookies\n",
    "butter = 1*num_cookies\n",
    "flour = 2.75*num_cookies\n",
    "print(sugar,\"cups of sugar\")\n",
    "print(butter,\"cups of butter\")\n",
    "print(flour,\"cups of flour\")"
   ]
  },
  {
   "cell_type": "markdown",
   "metadata": {},
   "source": [
    "# 8. Male and Female Percentages"
   ]
  },
  {
   "cell_type": "code",
   "execution_count": 22,
   "metadata": {},
   "outputs": [
    {
     "name": "stdout",
     "output_type": "stream",
     "text": [
      "number of male student: 6\n",
      "number of female student: 4\n",
      "60.0 % of students are male\n",
      "40.0 % of students are female\n"
     ]
    }
   ],
   "source": [
    "male = int(input(\"number of male student: \"))\n",
    "female = int(input(\"number of female student: \"))\n",
    "print(male*100/(male+female),\"% of students are male\")\n",
    "print(female*100/(male+female),\"% of students are female\")"
   ]
  },
  {
   "cell_type": "markdown",
   "metadata": {},
   "source": [
    "# 9. Stock Transaction Program"
   ]
  },
  {
   "cell_type": "code",
   "execution_count": 27,
   "metadata": {},
   "outputs": [
    {
     "name": "stdout",
     "output_type": "stream",
     "text": [
      "Joe paid for the stock: 80000\n",
      "Comission for buying: 2400.0\n",
      "Joe sold for the stock: 85500.0\n",
      "Comission for selling: 1710.0\n",
      "Joe gain(loss): 1390.0\n"
     ]
    }
   ],
   "source": [
    "buy = 2000*40\n",
    "buy_com = buy*0.03\n",
    "sale = 42.75*2000\n",
    "sale_com = sale*0.02\n",
    "\n",
    "print(\"Joe paid for the stock:\", buy)\n",
    "print(\"Comission for buying:\", buy_com)\n",
    "\n",
    "print(\"Joe sold for the stock:\", sale)\n",
    "print(\"Comission for selling:\", sale_com)\n",
    "\n",
    "print(\"Joe gain(loss):\", sale-sale_com - buy-buy_com)"
   ]
  },
  {
   "cell_type": "markdown",
   "metadata": {},
   "source": [
    "# 10. Compound Interest"
   ]
  },
  {
   "cell_type": "code",
   "execution_count": 31,
   "metadata": {},
   "outputs": [
    {
     "name": "stdout",
     "output_type": "stream",
     "text": [
      "principal: 1000\n",
      "interest rate: 3\n",
      "number of times compounded: 2\n",
      "number of year: 5\n",
      "amount of money in the account: 1160.540825025149\n"
     ]
    }
   ],
   "source": [
    "p = float(input(\"principal: \"))\n",
    "r = float(input(\"interest rate: \"))/100\n",
    "n = int(input(\"number of times compounded: \"))\n",
    "t = int(input(\"number of year: \"))\n",
    "\n",
    "a = p*(1+r/n)**(n*t)\n",
    "print(\"amount of money in the account:\", a)"
   ]
  }
 ],
 "metadata": {
  "kernelspec": {
   "display_name": "Python 3",
   "language": "python",
   "name": "python3"
  },
  "language_info": {
   "codemirror_mode": {
    "name": "ipython",
    "version": 3
   },
   "file_extension": ".py",
   "mimetype": "text/x-python",
   "name": "python",
   "nbconvert_exporter": "python",
   "pygments_lexer": "ipython3",
   "version": "3.6.6"
  }
 },
 "nbformat": 4,
 "nbformat_minor": 2
}
