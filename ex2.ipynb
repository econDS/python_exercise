{
 "cells": [
  {
   "cell_type": "markdown",
   "metadata": {},
   "source": [
    "#### 1. Name Display\n",
    "Write a program that gets a string containing a person’s first and last names as\n",
    "separate values, and then displays their \"initials\", \"name in address book\", and\n",
    "\"username\". For example, if the user enters a first name of \"John\" and a last name of\n",
    "\"Smith\", the program should display \"J.S.\", \"John SMITH\", and \"jsmith\"."
   ]
  },
  {
   "cell_type": "code",
   "execution_count": 7,
   "metadata": {},
   "outputs": [
    {
     "name": "stdout",
     "output_type": "stream",
     "text": [
      "Your first name: Donald\n",
      "Your last name: Trump\n",
      "D.T.\n",
      "Donald TRUMP\n",
      "dtrump\n"
     ]
    }
   ],
   "source": [
    "first_name = input(\"Your first name: \")\n",
    "last_name = input(\"Your last name: \")\n",
    "print(first_name[0].upper()+\".\"+last_name[0].upper()+\".\")\n",
    "print(first_name.capitalize()+\" \"+last_name.upper())\n",
    "print(first_name[0].lower()+last_name.lower())"
   ]
  },
  {
   "cell_type": "markdown",
   "metadata": {},
   "source": [
    "#### 2. Sum of Digits in a String\n",
    "Write a program that asks the user to enter a series of single-digit numbers with\n",
    "nothing separating them. The program should display the sum of all the single digit\n",
    "numbers in the string. For example, if the user enters 2514, the method should return\n",
    "12, which is the sum of 2, 5, 1, and 4."
   ]
  },
  {
   "cell_type": "code",
   "execution_count": 11,
   "metadata": {},
   "outputs": [
    {
     "name": "stdout",
     "output_type": "stream",
     "text": [
      "number: 2514\n",
      "12\n"
     ]
    }
   ],
   "source": [
    "num = input(\"number: \")\n",
    "total = 0\n",
    "for n in num:\n",
    "    total += int(n)\n",
    "print(total)"
   ]
  },
  {
   "cell_type": "markdown",
   "metadata": {},
   "source": [
    "#### 3. Date Printer\n",
    "Write a program that reads a string from the user containing a date in the form\n",
    "mm/dd/ yyyy. It should print the date in the form March 12, 2018"
   ]
  },
  {
   "cell_type": "code",
   "execution_count": 23,
   "metadata": {},
   "outputs": [
    {
     "name": "stdout",
     "output_type": "stream",
     "text": [
      "enter date: 3/12/2018\n",
      "March 12, 2018\n"
     ]
    }
   ],
   "source": [
    "import calendar\n",
    "date = input(\"enter date: \").split(\"/\")\n",
    "print(calendar.month_name[int(date[0])]+\" \"+date[1]+\", \"+date[2])"
   ]
  },
  {
   "cell_type": "markdown",
   "metadata": {},
   "source": [
    "#### 4. Alphabetic Telephone Number Translator\n",
    "A, B, and C ︎= 2\n",
    "\n",
    "D, E, and F = 3\n",
    "\n",
    "G, H, and I = 4\n",
    "\n",
    "J, K, and L = 5\n",
    "\n",
    "M, N, and O = 6 P,\n",
    "\n",
    "Q, R, and S = 7\n",
    "\n",
    "T, U, and V = 8\n",
    "\n",
    "W, X, Y, and Z = 9"
   ]
  },
  {
   "cell_type": "code",
   "execution_count": 40,
   "metadata": {},
   "outputs": [
    {
     "name": "stdout",
     "output_type": "stream",
     "text": [
      "phone number: 555-GET-FOOD\n",
      "555-438-3663\n"
     ]
    }
   ],
   "source": [
    "phone_number = input(\"phone number: \").split(\"-\")\n",
    "def convert(x):\n",
    "    if x in [\"A\",\"B\",\"C\"]:\n",
    "        return 2\n",
    "    if x in [\"D\",\"E\",\"F\"]:\n",
    "        return 3\n",
    "    if x in [\"G\",\"H\",\"I\"]:\n",
    "        return 4\n",
    "    if x in [\"J\",\"K\",\"L\"]:\n",
    "        return 5\n",
    "    if x in [\"M\",\"O\",\"P\"]:\n",
    "        return 6\n",
    "    if x in [\"P\",\"Q\",\"R\",\"S\"]:\n",
    "        return 7\n",
    "    if x in [\"T\",\"U\",\"V\"]:\n",
    "        return 8\n",
    "    if x in [\"W\",\"X\",\"Y\",\"Z\"]:\n",
    "        return 9\n",
    "    \n",
    "def num_cat(serial):\n",
    "    num = \"\"\n",
    "    for n in serial:\n",
    "        if n.isdigit():\n",
    "            num += n\n",
    "        else:\n",
    "            num += str(convert(n))\n",
    "    return num\n",
    "\n",
    "serial_0 = num_cat(phone_number[0])\n",
    "serial_1 = num_cat(phone_number[1])\n",
    "serial_2 = num_cat(phone_number[2])\n",
    "\n",
    "print(serial_0+\"-\"+serial_1+\"-\"+serial_2)"
   ]
  },
  {
   "cell_type": "markdown",
   "metadata": {},
   "source": [
    "#### 5. Character Analysis\n",
    "Write a program that asks the user to enter a sentence and determines the following:\n",
    "the number of uppercase letters, the number of lowpercase letters, the number of\n",
    "digits, and the number of whitespace characters."
   ]
  },
  {
   "cell_type": "code",
   "execution_count": 76,
   "metadata": {},
   "outputs": [
    {
     "name": "stdout",
     "output_type": "stream",
     "text": [
      "sentence: Mobile BNK48\n",
      "uppercase: 4\n",
      "lowpercase: 5\n",
      "digits: 2\n",
      "whitespace: 1\n"
     ]
    }
   ],
   "source": [
    "user_sentence = input(\"sentence: \")\n",
    "\n",
    "uppercase = 0\n",
    "lowpercase = 0\n",
    "digits = 0\n",
    "whitespace = 0\n",
    "for c in user_sentence:\n",
    "    if c.isupper():\n",
    "        uppercase += 1\n",
    "    if c.islower():\n",
    "        lowpercase += 1\n",
    "    if c.isdigit():\n",
    "        digits += 1\n",
    "    if c == \" \":\n",
    "        whitespace +=1\n",
    "print(\"uppercase:\",uppercase)\n",
    "print(\"lowpercase:\",lowpercase)\n",
    "print(\"digits:\",digits)\n",
    "print(\"whitespace:\",whitespace)"
   ]
  },
  {
   "cell_type": "markdown",
   "metadata": {},
   "source": [
    "#### 6. Sentence Capitalizer\n",
    "Write a program with a function that accepts a string as an argument and returns a\n",
    "copy of the string with the first character of each sentence capitalized. For instance, if\n",
    "the argument is “hello. my name is Joe. what is your name?” the function should\n",
    "return the string “Hello. My name is Joe. What is your name?” The program should\n",
    "let the user enter a string and then pass it to the function. The modified string should\n",
    "be displayed."
   ]
  },
  {
   "cell_type": "code",
   "execution_count": 73,
   "metadata": {},
   "outputs": [
    {
     "data": {
      "text/plain": [
       "'Hello. My name is Joe. What is your name?'"
      ]
     },
     "execution_count": 73,
     "metadata": {},
     "output_type": "execute_result"
    }
   ],
   "source": [
    "def cap_first(sentence):\n",
    "    sentence_s = sentence.split(\". \")\n",
    "    new_sentence = \"\"\n",
    "    for i in range(len(sentence_s[0])):\n",
    "        if i == 0:\n",
    "            new_sentence += sentence_s[0][0].upper()\n",
    "        else:\n",
    "            new_sentence += sentence_s[0][i]\n",
    "    for i in range(1, len(sentence_s)):\n",
    "        new_sentence += \". \"\n",
    "        for j in range(len(sentence_s[i])):\n",
    "            if j == 0:\n",
    "                new_sentence += sentence_s[i][0].upper()\n",
    "            else:\n",
    "                new_sentence += sentence_s[i][j]\n",
    "    return new_sentence\n",
    "cap_first(\"hello. my name is Joe. what is your name?\")"
   ]
  },
  {
   "cell_type": "markdown",
   "metadata": {},
   "source": [
    "#### 7. Vowels and Consonants\n",
    "Write a program with a function that accepts a string as an argument and returns the\n",
    "number of vowels that the string contains. The application should have another\n",
    "function that accepts a string as an argument and returns the number of consonants\n",
    "that the string contains. The application should let the user enter a string and should\n",
    "display the number of vowels and the number of consonants it contains."
   ]
  },
  {
   "cell_type": "code",
   "execution_count": 87,
   "metadata": {},
   "outputs": [
    {
     "name": "stdout",
     "output_type": "stream",
     "text": [
      "sentence: google\n",
      "vowels: 3\n",
      "consonants: 3\n"
     ]
    }
   ],
   "source": [
    "user_sentence = input(\"sentence: \")\n",
    "\n",
    "vowels_list = [\"a\",\"e\",\"i\",\"o\",\"u\"]\n",
    "az_list = []\n",
    "for i in range(ord('a'), ord('z')+1):\n",
    "    az_list.append(chr(i))\n",
    "    \n",
    "vowels = 0\n",
    "consonants = 0\n",
    "for c in user_sentence:\n",
    "    if c.lower() in vowels_list:\n",
    "        vowels += 1\n",
    "    if c.lower() in az_list and c.lower() not in vowels_list:\n",
    "        consonants += 1\n",
    "        \n",
    "print(\"vowels:\", vowels)\n",
    "print(\"consonants:\", consonants)"
   ]
  },
  {
   "cell_type": "markdown",
   "metadata": {},
   "source": [
    "#### 8.Most Frequent Character\n",
    "Write a program that lets the user enter a string and displays the character that\n",
    "appears most frequently in the string."
   ]
  },
  {
   "cell_type": "code",
   "execution_count": 144,
   "metadata": {},
   "outputs": [
    {
     "name": "stdout",
     "output_type": "stream",
     "text": [
      "word :abracadabra\n",
      "a : 5\n"
     ]
    }
   ],
   "source": [
    "user_word = input(\"word :\")\n",
    "most = 0\n",
    "for i in user_word:\n",
    "    if user_word.count(i) > most:\n",
    "        char = i\n",
    "        most = user_word.count(i)\n",
    "print(char,\":\",most)"
   ]
  },
  {
   "cell_type": "code",
   "execution_count": 121,
   "metadata": {},
   "outputs": [
    {
     "name": "stdout",
     "output_type": "stream",
     "text": [
      "Your sentence : google\n",
      "g : 2\n"
     ]
    }
   ],
   "source": [
    "al_mos = \"\"\n",
    "al_count = 0\n",
    "sentence_str = input(\"Your sentence : \")\n",
    "for i in sentence_str :\n",
    "    if al_count < sentence_str.count(i) :\n",
    "        al_count = sentence_str.count(i)\n",
    "        al_mos = i+\" : \"+str(al_count)\n",
    "print(al_mos)"
   ]
  },
  {
   "cell_type": "code",
   "execution_count": 141,
   "metadata": {},
   "outputs": [
    {
     "data": {
      "text/plain": [
       "[('a', 5), ('b', 2), ('r', 2)]"
      ]
     },
     "execution_count": 141,
     "metadata": {},
     "output_type": "execute_result"
    }
   ],
   "source": [
    "from collections import Counter\n",
    "Counter('abracadabra').most_common(3)"
   ]
  },
  {
   "cell_type": "markdown",
   "metadata": {},
   "source": [
    "#### 9. Word Separator\n",
    "Write a program that accepts as input a sentence in which all of the words are run\n",
    "together but the first character of each word is uppercase. Convert the sentence to a\n",
    "string in which the words are separated by spaces and only the first word starts with\n",
    "an uppercase letter. For example the string “StopAndSmellTheRoses.” would be\n",
    "converted to “Stop and smell the roses.”"
   ]
  },
  {
   "cell_type": "code",
   "execution_count": 89,
   "metadata": {},
   "outputs": [
    {
     "name": "stdout",
     "output_type": "stream",
     "text": [
      "sentence: StopAndSmellTheRoses\n",
      "Stop and smell the roses\n"
     ]
    }
   ],
   "source": [
    "user_sentence = input(\"sentence: \")\n",
    "new_sentence = user_sentence[0]\n",
    "for i in range(1,len(user_sentence)):\n",
    "    if user_sentence[i].isupper():\n",
    "        new_sentence += \" \"+user_sentence[i].lower()\n",
    "    else:\n",
    "        new_sentence += user_sentence[i]\n",
    "print(new_sentence)"
   ]
  },
  {
   "cell_type": "markdown",
   "metadata": {},
   "source": [
    "#### 10. Caesar Cipher\n",
    "A \"Caesar Cipher\" is a simple way of encrypting a message by replacing each letter\n",
    "with a letter A a certain number of spaces up the alphabet. For example, if shifting the\n",
    "message by 13, an A would become an N, while an S would wrap around to the start\n",
    "of the alphabet to become an F.\n",
    "Write a program that asks the user for a message (a string) and a shift amount (an\n",
    "integer). The values should be passed to a function that accepts a string and an integer\n",
    "as arguments, and returns a string representing the original string encrypted by\n",
    "shfiting the letters by the integer. For example, as string \"BEWARE THE IDES OF\n",
    "MARCH\", and an integer of 13 should result in a string of \"ORJNER GUR VQRF BS\n",
    "ZNEPU\"."
   ]
  },
  {
   "cell_type": "code",
   "execution_count": 109,
   "metadata": {},
   "outputs": [
    {
     "name": "stdout",
     "output_type": "stream",
     "text": [
      "message: BEWARE THE IDES OF MARCH\n",
      "shift: 13\n"
     ]
    },
    {
     "data": {
      "text/plain": [
       "'ORJNER GUR VQRF BS ZNEPU'"
      ]
     },
     "execution_count": 109,
     "metadata": {},
     "output_type": "execute_result"
    }
   ],
   "source": [
    "user_message = input(\"message: \").upper()\n",
    "shift = int(input(\"shift: \"))\n",
    "\n",
    "def caesar_cipher(msg, n_shift):\n",
    "    new_sentence = \"\"\n",
    "    for c in msg:\n",
    "        if c.isalpha():\n",
    "            if ord(c)+n_shift > ord(\"Z\"):\n",
    "                new_sentence += chr(ord(\"A\")+(ord(c)+n_shift-ord(\"Z\"))-1)\n",
    "            else:\n",
    "                new_sentence += chr(ord(c)+n_shift)\n",
    "        else:\n",
    "            new_sentence += c\n",
    "    return new_sentence\n",
    "    \n",
    "caesar_cipher(user_message, shift)"
   ]
  }
 ],
 "metadata": {
  "kernelspec": {
   "display_name": "Python 3",
   "language": "python",
   "name": "python3"
  },
  "language_info": {
   "codemirror_mode": {
    "name": "ipython",
    "version": 3
   },
   "file_extension": ".py",
   "mimetype": "text/x-python",
   "name": "python",
   "nbconvert_exporter": "python",
   "pygments_lexer": "ipython3",
   "version": "3.6.6"
  }
 },
 "nbformat": 4,
 "nbformat_minor": 2
}
